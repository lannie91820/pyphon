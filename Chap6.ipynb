{
  "nbformat": 4,
  "nbformat_minor": 0,
  "metadata": {
    "colab": {
      "name": "Chap6.ipynb",
      "provenance": []
    },
    "kernelspec": {
      "name": "python3",
      "display_name": "Python 3"
    },
    "language_info": {
      "name": "python"
    }
  },
  "cells": [
    {
      "cell_type": "markdown",
      "source": [
        "##Chao6 檔案處理\n",
        "  os套件:用來處理目錄與文件，以及檔案讀寫"
      ],
      "metadata": {
        "id": "349MFAgj8X1x"
      }
    },
    {
      "cell_type": "code",
      "execution_count": null,
      "metadata": {
        "colab": {
          "base_uri": "https://localhost:8080/",
          "height": 36
        },
        "id": "8KdVUu2k72SM",
        "outputId": "45448d91-d08f-4338-94d4-85f3540b41ec"
      },
      "outputs": [
        {
          "output_type": "execute_result",
          "data": {
            "text/plain": [
              "'/content'"
            ],
            "application/vnd.google.colaboratory.intrinsic+json": {
              "type": "string"
            }
          },
          "metadata": {},
          "execution_count": 1
        }
      ],
      "source": [
        "import os\n",
        "os.getcwd()#回傳目前的工作目錄"
      ]
    },
    {
      "cell_type": "code",
      "source": [
        "os.listdir(\".\")#列出目錄下所有檔案"
      ],
      "metadata": {
        "colab": {
          "base_uri": "https://localhost:8080/"
        },
        "id": "ThmJVuV79dJr",
        "outputId": "7dd643cd-5cd3-4fa2-aad1-aaf6807f651b"
      },
      "execution_count": null,
      "outputs": [
        {
          "output_type": "execute_result",
          "data": {
            "text/plain": [
              "['.config', 'text', 'sample_data']"
            ]
          },
          "metadata": {},
          "execution_count": 7
        }
      ]
    },
    {
      "cell_type": "code",
      "source": [
        "os.makedirs(\"test\") #新增text目錄\n",
        "os.listdir(\".\")"
      ],
      "metadata": {
        "colab": {
          "base_uri": "https://localhost:8080/"
        },
        "id": "rZuKD_vs-rbh",
        "outputId": "63e61de8-a785-4e62-da48-316b6993517f"
      },
      "execution_count": null,
      "outputs": [
        {
          "output_type": "execute_result",
          "data": {
            "text/plain": [
              "['.config', 'text', 'test', 'sample_data']"
            ]
          },
          "metadata": {},
          "execution_count": 9
        }
      ]
    },
    {
      "cell_type": "code",
      "source": [
        "os.rmdir(\"test\") #移除text目錄\n",
        "os.listdir(\".\")"
      ],
      "metadata": {
        "colab": {
          "base_uri": "https://localhost:8080/"
        },
        "id": "OWChimwd-9vC",
        "outputId": "021b5e48-d5ff-47c4-d1fc-675be7aa4564"
      },
      "execution_count": null,
      "outputs": [
        {
          "output_type": "execute_result",
          "data": {
            "text/plain": [
              "['.config', 'text', 'sample_data']"
            ]
          },
          "metadata": {},
          "execution_count": 10
        }
      ]
    },
    {
      "cell_type": "markdown",
      "source": [
        "##檔案處理\n",
        "- os套件有自己處理檔案的函式os.open\n",
        "- python也有自己處理檔案的函式open(比較常用)\n",
        "- w=可寫(預設建立檔案)若存檔存在則會清除舊檔案\n",
        "- w+=可寫可讀(預設建立檔案)若檔案存在則會清除舊檔案\n",
        "- r=可讀\n",
        "- r+=可寫可讀 但寫入資料指向開頭\n",
        "- a=可寫不能讀 寫入資料指向尾端\n",
        "- a+=可寫可讀 寫入資料指向尾端\n",
        "- b=轉為2進為文件\n",
        "- ab+=2進位文件的讀寫 寫入資料指向尾端"
      ],
      "metadata": {
        "id": "gltaYdPa_rWR"
      }
    },
    {
      "cell_type": "code",
      "source": [
        "#新增檔案\n",
        "a=open(\"a.txt\",\"w\")\n",
        "a.write(\"This is linel\")  #寫This is line1\n",
        "a.write(\"This is line2\\n\") #寫This is line2 換行\n",
        "a.write(\"This is line3\\n\") #寫This is line3 換行\n",
        "a.close()"
      ],
      "metadata": {
        "id": "9kJKgaKbBB8B"
      },
      "execution_count": null,
      "outputs": []
    },
    {
      "cell_type": "code",
      "source": [
        "os.path.isfile(\"a.txt\")  #a.txt true or false"
      ],
      "metadata": {
        "colab": {
          "base_uri": "https://localhost:8080/"
        },
        "id": "VahGM65-DgdW",
        "outputId": "f9b6665e-8e97-498b-ad00-ecbaf46cf017"
      },
      "execution_count": null,
      "outputs": [
        {
          "output_type": "execute_result",
          "data": {
            "text/plain": [
              "True"
            ]
          },
          "metadata": {},
          "execution_count": 12
        }
      ]
    },
    {
      "cell_type": "code",
      "source": [
        "a=open(\"a.txt\",\"r\")  #執行a.txt的內容\n",
        "print(a.readlines())\n",
        "a.close()"
      ],
      "metadata": {
        "colab": {
          "base_uri": "https://localhost:8080/"
        },
        "id": "v-ZPiPJwDom5",
        "outputId": "82309b64-7c37-4774-fd12-16e036bc4ed4"
      },
      "execution_count": null,
      "outputs": [
        {
          "output_type": "stream",
          "name": "stdout",
          "text": [
            "['This is linelThis is line2\\n', 'This is line3\\n']\n"
          ]
        }
      ]
    },
    {
      "cell_type": "code",
      "source": [
        "if os.path.isfile(\"a.txt\"):\n",
        "  a=open(\"a.txt\",\"r\")\n",
        "  print(a.readlines())\n",
        "  a.close()\n",
        "else:\n",
        "  print(\"檔案不存在\")  #檔案如果不存在，顯示檔案不存在"
      ],
      "metadata": {
        "colab": {
          "base_uri": "https://localhost:8080/"
        },
        "id": "rVE-1_6vEqsT",
        "outputId": "11922008-704b-4f1e-e5ad-2e8b17c68b59"
      },
      "execution_count": null,
      "outputs": [
        {
          "output_type": "stream",
          "name": "stdout",
          "text": [
            "['This is linelThis is line2\\n', 'This is line3\\n']\n"
          ]
        }
      ]
    },
    {
      "cell_type": "markdown",
      "source": [
        "##附加檔案"
      ],
      "metadata": {
        "id": "xHb_qR5RICLz"
      }
    },
    {
      "cell_type": "code",
      "source": [
        "a=open(\"a.txt\",\"a\") #參數\"a\"會把寫入資訊附加在檔案尾巴\n",
        "a.write(\"This is line\\n\")\n",
        "a.close()"
      ],
      "metadata": {
        "id": "MqwS1eXVIFZP"
      },
      "execution_count": null,
      "outputs": []
    },
    {
      "cell_type": "code",
      "source": [
        "a=open(\"a.txt\",\"r\")\n",
        "print(a.readlines())\n",
        "a.close()"
      ],
      "metadata": {
        "colab": {
          "base_uri": "https://localhost:8080/"
        },
        "id": "7ZVNbbGWItZK",
        "outputId": "a79057f3-a8e8-4950-8907-eab958cc9b95"
      },
      "execution_count": null,
      "outputs": [
        {
          "output_type": "stream",
          "name": "stdout",
          "text": [
            "['This is linelThis is line2\\n', 'This is line3\\n', 'This is line\\n']\n"
          ]
        }
      ]
    },
    {
      "cell_type": "code",
      "source": [
        "a=open(\"a.txt\",\"r+\") #參數\"r+\"會把寫入資訊附加在檔案開頭\n",
        "print(a.readlines())\n",
        "a.close()"
      ],
      "metadata": {
        "colab": {
          "base_uri": "https://localhost:8080/"
        },
        "id": "Gn8kTIbaI5I5",
        "outputId": "de899069-4dfc-4f0f-af4c-515bf853cbcd"
      },
      "execution_count": null,
      "outputs": [
        {
          "output_type": "stream",
          "name": "stdout",
          "text": [
            "['This is linelThis is line2\\n', 'This is line3\\n', 'This is line\\n']\n"
          ]
        }
      ]
    },
    {
      "cell_type": "code",
      "source": [
        "a=open(\"a.txt\",\"r\")\n",
        "print(a.readlines())\n",
        "a.close()"
      ],
      "metadata": {
        "colab": {
          "base_uri": "https://localhost:8080/"
        },
        "id": "72i8AfzsJU5I",
        "outputId": "2e12dedd-6ae9-4e46-d1d4-96c019b97c02"
      },
      "execution_count": null,
      "outputs": [
        {
          "output_type": "stream",
          "name": "stdout",
          "text": [
            "['This is linelThis is line2\\n', 'This is line3\\n', 'This is line\\n']\n"
          ]
        }
      ]
    },
    {
      "cell_type": "markdown",
      "source": [
        "## 新增檔案"
      ],
      "metadata": {
        "id": "fNgpaenSgarP"
      }
    },
    {
      "cell_type": "code",
      "source": [
        "a=open(\"a.txt\",\"w\") #新增檔案\n",
        "a.write(\"This is a test1\")\n",
        "a.write(\"This is a test2\\n\")\n",
        "a.write(\"This is a test3\\n\")\n",
        "a.close() #關閉檔案"
      ],
      "metadata": {
        "id": "g0dyvmbcgc9u"
      },
      "execution_count": null,
      "outputs": []
    },
    {
      "cell_type": "markdown",
      "source": [
        "## 讀取檔案"
      ],
      "metadata": {
        "id": "XAgIdW46gQqq"
      }
    },
    {
      "cell_type": "code",
      "source": [
        "a=open(\"a.txt\",\"r\")\n",
        "print(a.readline())\n",
        "print(a.readline())\n",
        "print(a.readline()) #多餘的命令，因為檔案只有2行\n",
        "a.close()"
      ],
      "metadata": {
        "colab": {
          "base_uri": "https://localhost:8080/"
        },
        "id": "PVRzWupGgRvO",
        "outputId": "7afb4b37-cc79-433b-8425-e44ceaf84d4e"
      },
      "execution_count": null,
      "outputs": [
        {
          "output_type": "stream",
          "name": "stdout",
          "text": [
            "This is a test1This is a test2\n",
            "\n",
            "This is a test3\n",
            "\n",
            "\n"
          ]
        }
      ]
    },
    {
      "cell_type": "code",
      "source": [
        "a=open(\"a.txt\",\"r\")\n",
        "print(a.readlines())  #一次讀取多行，與a.read()命令相同\n",
        "a.close()"
      ],
      "metadata": {
        "id": "_yVgt5qqgryA",
        "outputId": "baf82c45-f55a-4e7a-ada2-6e9f26128d22",
        "colab": {
          "base_uri": "https://localhost:8080/"
        }
      },
      "execution_count": null,
      "outputs": [
        {
          "output_type": "stream",
          "name": "stdout",
          "text": [
            "['This is a test1This is a test2\\n', 'This is a test3\\n']\n"
          ]
        }
      ]
    }
  ]
}