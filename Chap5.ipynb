{
  "nbformat": 4,
  "nbformat_minor": 0,
  "metadata": {
    "colab": {
      "name": "Chap5.ipynb",
      "provenance": []
    },
    "kernelspec": {
      "name": "python3",
      "display_name": "Python 3"
    },
    "language_info": {
      "name": "python"
    }
  },
  "cells": [
    {
      "cell_type": "markdown",
      "source": [
        "#涵式\n",
        "- 獨立一組程式碼\n",
        "- 通常可以有0-多個參數, 0-1個輸出\n",
        "- 涵式輸入參數可以有預設值"
      ],
      "metadata": {
        "id": "AKbWhc-B6qkq"
      }
    },
    {
      "cell_type": "code",
      "source": [
        "#傳統的程式寫法\n",
        "import math\n",
        "radius=int(input(\"請輸入圓的半徑:\"))\n",
        "area=radius * radius * math.pi\n",
        "print(\"圓的面積為:\",area)"
      ],
      "metadata": {
        "colab": {
          "base_uri": "https://localhost:8080/"
        },
        "id": "4mAeezNS7FLs",
        "outputId": "3059c03b-4b80-4056-dd91-21f2d90e172c"
      },
      "execution_count": null,
      "outputs": [
        {
          "output_type": "stream",
          "name": "stdout",
          "text": [
            "請輸入圓的半徑:5\n",
            "圓的面積為: 78.53981633974483\n"
          ]
        }
      ]
    },
    {
      "cell_type": "code",
      "source": [
        "import math\n",
        "def circle_area(radius):\n",
        "   area=radius * radius * math.pi\n",
        "   return area\n",
        "print(circle_area(10))\n",
        "print(circle_area(5))"
      ],
      "metadata": {
        "colab": {
          "base_uri": "https://localhost:8080/"
        },
        "id": "WhppNmpv8ScM",
        "outputId": "d1bec97f-b6b6-44a4-d366-683c7616e10f"
      },
      "execution_count": null,
      "outputs": [
        {
          "output_type": "stream",
          "name": "stdout",
          "text": [
            "314.1592653589793\n",
            "78.53981633974483\n"
          ]
        }
      ]
    },
    {
      "cell_type": "markdown",
      "source": [
        ""
      ],
      "metadata": {
        "id": "xKs8mooYWfkZ"
      }
    },
    {
      "cell_type": "markdown",
      "source": [
        "## 面積計算函式"
      ],
      "metadata": {
        "id": "ICQTdwYmWfmv"
      }
    },
    {
      "cell_type": "code",
      "source": [
        "import math\n",
        "def circle_area(radius):\n",
        "    area = radius * radius * math.pi\n",
        "    return area\n",
        "\n",
        "print(circle_area(10)) #計算面積函式"
      ],
      "metadata": {
        "colab": {
          "base_uri": "https://localhost:8080/"
        },
        "id": "IBmMoSbfWhlT",
        "outputId": "d75679d4-5821-4e63-f8cd-fd226269cd71"
      },
      "execution_count": 1,
      "outputs": [
        {
          "output_type": "stream",
          "name": "stdout",
          "text": [
            "314.1592653589793\n"
          ]
        }
      ]
    }
  ]
}