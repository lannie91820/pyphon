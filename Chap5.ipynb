{
  "nbformat": 4,
  "nbformat_minor": 0,
  "metadata": {
    "colab": {
      "name": "Chap5.ipynb",
      "provenance": []
    },
    "kernelspec": {
      "name": "python3",
      "display_name": "Python 3"
    },
    "language_info": {
      "name": "python"
    }
  },
  "cells": [
    {
      "cell_type": "markdown",
      "source": [
        "#涵式\n",
        "- 獨立一組程式碼\n",
        "- 通常可以有0-多個參數, 0-1個輸出\n",
        "- 涵式輸入參數可以有預設值"
      ],
      "metadata": {
        "id": "AKbWhc-B6qkq"
      }
    },
    {
      "cell_type": "code",
      "source": [
        "#傳統的程式寫法\n",
        "import math\n",
        "radius=int(input(\"請輸入圓的半徑:\"))\n",
        "area=radius * radius * math.pi\n",
        "print(\"圓的面積為:\",area)"
      ],
      "metadata": {
        "colab": {
          "base_uri": "https://localhost:8080/"
        },
        "id": "4mAeezNS7FLs",
        "outputId": "3059c03b-4b80-4056-dd91-21f2d90e172c"
      },
      "execution_count": null,
      "outputs": [
        {
          "output_type": "stream",
          "name": "stdout",
          "text": [
            "請輸入圓的半徑:5\n",
            "圓的面積為: 78.53981633974483\n"
          ]
        }
      ]
    },
    {
      "cell_type": "code",
      "source": [
        "import math\n",
        "def circle_area(radius):\n",
        "   area=radius * radius * math.pi\n",
        "   return area\n",
        "print(circle_area(10))\n",
        "print(circle_area(5))"
      ],
      "metadata": {
        "colab": {
          "base_uri": "https://localhost:8080/"
        },
        "id": "WhppNmpv8ScM",
        "outputId": "d1bec97f-b6b6-44a4-d366-683c7616e10f"
      },
      "execution_count": null,
      "outputs": [
        {
          "output_type": "stream",
          "name": "stdout",
          "text": [
            "314.1592653589793\n",
            "78.53981633974483\n"
          ]
        }
      ]
    },
    {
      "cell_type": "markdown",
      "source": [
        "# numpy套件"
      ],
      "metadata": {
        "id": "NEeCNKRZnRps"
      }
    },
    {
      "cell_type": "code",
      "source": [
        "a_list=[1,2,3,4,5]\n",
        "print(a_list*3) #a_list的內容*3次"
      ],
      "metadata": {
        "colab": {
          "base_uri": "https://localhost:8080/"
        },
        "id": "ikTahyhvnTzc",
        "outputId": "6ec35dc5-8803-4a0e-8866-0d950d4a9a43"
      },
      "execution_count": null,
      "outputs": [
        {
          "output_type": "stream",
          "name": "stdout",
          "text": [
            "[1, 2, 3, 4, 5, 1, 2, 3, 4, 5, 1, 2, 3, 4, 5]\n"
          ]
        }
      ]
    },
    {
      "cell_type": "code",
      "source": [
        "#numpy套件ndarray型態，提供element-wise的操作\n",
        "import numpy as np\n",
        "a_ndarray=np.array([1,2,3,4,5])\n",
        "print(a_ndarray*3) #a_ndarray3次方 顯示 3 6 9 12 15 "
      ],
      "metadata": {
        "colab": {
          "base_uri": "https://localhost:8080/"
        },
        "id": "SyGkdwHgnbYU",
        "outputId": "98f1fa86-27fe-4d65-f913-a899aa323eba"
      },
      "execution_count": null,
      "outputs": [
        {
          "output_type": "stream",
          "name": "stdout",
          "text": [
            "[ 3  6  9 12 15]\n"
          ]
        }
      ]
    },
    {
      "cell_type": "code",
      "source": [
        "print(type(a_ndarray))\n",
        "print(a_ndarray.ndim) #ndarray的維度\n",
        "print(a_ndarray.shape) #ndarray的shape\n",
        "print(a_ndarray.dtype) #ndarray的資料型態"
      ],
      "metadata": {
        "colab": {
          "base_uri": "https://localhost:8080/"
        },
        "id": "crDxS0JRno6M",
        "outputId": "6be88ec5-2caf-4437-fabf-6dccd766a0d6"
      },
      "execution_count": null,
      "outputs": [
        {
          "output_type": "stream",
          "name": "stdout",
          "text": [
            "<class 'numpy.ndarray'>\n",
            "1\n",
            "(5,)\n",
            "int64\n"
          ]
        }
      ]
    },
    {
      "cell_type": "code",
      "source": [
        "z=np.zeros(6)\n",
        "print(z)  #六個元素都為0的1d ndarray\n",
        "print(np.zeros((2,6)))  #12個元素都為0的2d ndarray\n",
        "print(np.empty((2,6,2))) #24個元素都未初始化的值\n",
        "print(np.arange(10)) # 10個元素為0-9的1d ndarray"
      ],
      "metadata": {
        "colab": {
          "base_uri": "https://localhost:8080/"
        },
        "id": "Mxhl34xKnqkM",
        "outputId": "29652a93-64d0-4efe-eee9-3cf4232fb0e2"
      },
      "execution_count": null,
      "outputs": [
        {
          "output_type": "stream",
          "name": "stdout",
          "text": [
            "[0. 0. 0. 0. 0. 0.]\n",
            "[[0. 0. 0. 0. 0. 0.]\n",
            " [0. 0. 0. 0. 0. 0.]]\n",
            "[[[2.59496874e-316 0.00000000e+000]\n",
            "  [0.00000000e+000 0.00000000e+000]\n",
            "  [0.00000000e+000 0.00000000e+000]\n",
            "  [0.00000000e+000 0.00000000e+000]\n",
            "  [0.00000000e+000 0.00000000e+000]\n",
            "  [0.00000000e+000 0.00000000e+000]]\n",
            "\n",
            " [[0.00000000e+000 0.00000000e+000]\n",
            "  [0.00000000e+000 0.00000000e+000]\n",
            "  [0.00000000e+000 0.00000000e+000]\n",
            "  [0.00000000e+000 0.00000000e+000]\n",
            "  [0.00000000e+000 0.00000000e+000]\n",
            "  [0.00000000e+000 0.00000000e+000]]]\n",
            "[0 1 2 3 4 5 6 7 8 9]\n"
          ]
        }
      ]
    },
    {
      "cell_type": "markdown",
      "source": [
        "# ndarray的進階操作"
      ],
      "metadata": {
        "id": "ixfsfRe3nsnV"
      }
    },
    {
      "cell_type": "code",
      "source": [
        "my_array=np.arange(10) #不包含10 從0開始\n",
        "print(my_array)\n",
        "print(my_array[0])\n",
        "print(my_array[0:5]) #不包含5 從0開始"
      ],
      "metadata": {
        "colab": {
          "base_uri": "https://localhost:8080/"
        },
        "id": "F0T-xLWCntv0",
        "outputId": "67cdbbe8-0338-4cfe-f1e2-e36fd8557a81"
      },
      "execution_count": null,
      "outputs": [
        {
          "output_type": "stream",
          "name": "stdout",
          "text": [
            "[0 1 2 3 4 5 6 7 8 9]\n",
            "0\n",
            "[0 1 2 3 4]\n"
          ]
        }
      ]
    },
    {
      "cell_type": "code",
      "source": [
        "#2維ndarray取值\n",
        "my_2d_array = np.array([np.arange(0,5), np.arange(5,10)])\n",
        "print(my_2d_array)\n",
        "print(my_2d_array[1,:]) #第二列資料\n",
        "print(my_2d_array[:,1]) #第二欄資料\n",
        "print(my_2d_array[1,1]) #第二列第二欄的資料"
      ],
      "metadata": {
        "colab": {
          "base_uri": "https://localhost:8080/"
        },
        "id": "azmngKVbn838",
        "outputId": "96b64e24-8e3c-4ff9-9dae-83ed68c63cee"
      },
      "execution_count": null,
      "outputs": [
        {
          "output_type": "stream",
          "name": "stdout",
          "text": [
            "[[0 1 2 3 4]\n",
            " [5 6 7 8 9]]\n",
            "[5 6 7 8 9]\n",
            "[1 6]\n",
            "6\n"
          ]
        }
      ]
    },
    {
      "cell_type": "code",
      "source": [
        "#假設有六個組別\"Modern Web\", \"DevOps\", \"Cloud\", \n",
        "#\"Big Data\", \"Security\", \"自我挑戰組\"\n",
        "#其參加人數分別為56, 8, 19, 14, 6, 71人\n",
        "groups=[\"Modern Web\", \"DevOps\",  \"Cloud\",\"Big Data\", \"Security\", \"自我挑戰組\"] #顯示Modern Web\", \"DevOps\",  \"Cloud\",\"Big Data\", \"Security\", \"自我挑戰組\n",
        "ironman = [56,8,19,14,6,71] #顯示參加人數[56  8 19 14  6 71]\n",
        "groups_array=np.array(groups)\n",
        "ironman_array=np.array(ironman)\n",
        "print(groups_array)\n",
        "print(ironman_array)"
      ],
      "metadata": {
        "colab": {
          "base_uri": "https://localhost:8080/"
        },
        "id": "DcUlr5Kmn-81",
        "outputId": "49bf91d1-04a9-427d-ac18-104a1fb5b836"
      },
      "execution_count": null,
      "outputs": [
        {
          "output_type": "stream",
          "name": "stdout",
          "text": [
            "['Modern Web' 'DevOps' 'Cloud' 'Big Data' 'Security' '自我挑戰組']\n",
            "[56  8 19 14  6 71]\n"
          ]
        }
      ]
    },
    {
      "cell_type": "code",
      "source": [
        "#用人數去篩選組別\n",
        "print(ironman_array >= 10)\n",
        "print(groups_array[ironman_array >= 10])\n",
        "print(groups_array != \"自我挑戰組\")\n",
        "print(ironman_array[groups_array != \"自我挑戰組\"])"
      ],
      "metadata": {
        "colab": {
          "base_uri": "https://localhost:8080/"
        },
        "id": "DJvadeTHoIuX",
        "outputId": "ad71da2f-39d5-4cab-a527-5f0f4b56c16b"
      },
      "execution_count": null,
      "outputs": [
        {
          "output_type": "stream",
          "name": "stdout",
          "text": [
            "[ True False  True  True False  True]\n",
            "['Modern Web' 'Cloud' 'Big Data' '自我挑戰組']\n",
            "[ True  True  True  True  True False]\n",
            "[56  8 19 14  6]\n"
          ]
        }
      ]
    },
    {
      "cell_type": "markdown",
      "source": [
        "# Ndarray轉置"
      ],
      "metadata": {
        "id": "O3S0y-xYoPpM"
      }
    },
    {
      "cell_type": "code",
      "source": [
        "my_1d_array=np.arange(10) #不包含10 從0開始\n",
        "print(my_1d_array)\n",
        "my_2d_array=my_1d_array.reshape((2,5))\n",
        "print(my_2d_array)\n",
        "print(my_2d_array.T)"
      ],
      "metadata": {
        "colab": {
          "base_uri": "https://localhost:8080/"
        },
        "id": "xGydLtCeoRT1",
        "outputId": "0cdd7dfe-3929-402d-cd2b-a7c981cfd9d6"
      },
      "execution_count": null,
      "outputs": [
        {
          "output_type": "stream",
          "name": "stdout",
          "text": [
            "[0 1 2 3 4 5 6 7 8 9]\n",
            "[[0 1 2 3 4]\n",
            " [5 6 7 8 9]]\n",
            "[[0 5]\n",
            " [1 6]\n",
            " [2 7]\n",
            " [3 8]\n",
            " [4 9]]\n"
          ]
        }
      ]
    },
    {
      "cell_type": "code",
      "source": [
        "print(np.arange(24).reshape(4,6)) #4列 一列6個數字 不包含24 從0開始"
      ],
      "metadata": {
        "colab": {
          "base_uri": "https://localhost:8080/"
        },
        "id": "dIimsfXBoXdE",
        "outputId": "b6f07563-da38-47ce-9511-97a78e86c65b"
      },
      "execution_count": null,
      "outputs": [
        {
          "output_type": "stream",
          "name": "stdout",
          "text": [
            "[[ 0  1  2  3  4  5]\n",
            " [ 6  7  8  9 10 11]\n",
            " [12 13 14 15 16 17]\n",
            " [18 19 20 21 22 23]]\n"
          ]
        }
      ]
    },
    {
      "cell_type": "code",
      "source": [
        "#ndarray nan(空值)\n",
        "nan_array=np.array([56,8,19,14,6, np.nan])\n",
        "print(nan_array)"
      ],
      "metadata": {
        "id": "1hN1VhdeojuU",
        "outputId": "3d13586c-3a80-447e-d118-170533f0ecf8",
        "colab": {
          "base_uri": "https://localhost:8080/"
        }
      },
      "execution_count": null,
      "outputs": [
        {
          "output_type": "stream",
          "name": "stdout",
          "text": [
            "[56.  8. 19. 14.  6. nan]\n"
          ]
        }
      ]
    }
  ]
}