{
  "nbformat": 4,
  "nbformat_minor": 0,
  "metadata": {
    "colab": {
      "name": "Chap4.ipynb",
      "provenance": []
    },
    "kernelspec": {
      "name": "python3",
      "display_name": "Python 3"
    },
    "language_info": {
      "name": "python"
    }
  },
  "cells": [
    {
      "cell_type": "markdown",
      "source": [
        "# 第四章：Python 物件\n",
        "## List : 串列 [ ]\n",
        "## Tuple : 不能更新的串列 ( )\n",
        "## Dict: 有鍵值(key)的串列 { }"
      ],
      "metadata": {
        "id": "InehSoNzlU8N"
      }
    },
    {
      "cell_type": "markdown",
      "source": [
        "## List 串列"
      ],
      "metadata": {
        "id": "0aKxUw9clW4U"
      }
    },
    {
      "cell_type": "code",
      "execution_count": null,
      "metadata": {
        "colab": {
          "base_uri": "https://localhost:8080/"
        },
        "id": "-ePuPXuJlRBi",
        "outputId": "71d719d9-a646-48c6-e3a7-1eb555b98f69"
      },
      "outputs": [
        {
          "output_type": "stream",
          "name": "stdout",
          "text": [
            "[]\n",
            "[]\n",
            "['python', 'js', 'SQL']\n",
            "python\n",
            "js\n",
            "SQL\n"
          ]
        }
      ],
      "source": [
        "my_list0=[] #[]中的內容\n",
        "my_list1 = list()\n",
        "my_list2 = ['python', 'js', 'SQL'] #顯示[]中內容\n",
        "print(my_list0) \n",
        "print(my_list1)\n",
        "print(my_list2)\n",
        "print(my_list2[0]) #顯示python\n",
        "print(my_list2[1]) #顯示js\n",
        "print(my_list2[2]) #顯示SQL"
      ]
    },
    {
      "cell_type": "markdown",
      "source": [
        "## 附加於最後"
      ],
      "metadata": {
        "id": "ET0yK6xglu69"
      }
    },
    {
      "cell_type": "code",
      "source": [
        "my_list2 = ['python', 'js', 'SQL'] \n",
        "my_list2.append('java')\n",
        "print(my_list2[3])\n",
        "#長度len()\n",
        "print(len(my_list2)) #第二是java\n",
        "print(len(my_list2[0]))"
      ],
      "metadata": {
        "colab": {
          "base_uri": "https://localhost:8080/"
        },
        "id": "A_EmFFm7lwk1",
        "outputId": "08ba97cc-c036-4f17-9cf2-b59e7aa4cfe0"
      },
      "execution_count": null,
      "outputs": [
        {
          "output_type": "stream",
          "name": "stdout",
          "text": [
            "java\n",
            "4\n",
            "6\n"
          ]
        }
      ]
    },
    {
      "cell_type": "markdown",
      "source": [
        "## 新增至特定位置"
      ],
      "metadata": {
        "id": "XYaLuGnYl33U"
      }
    },
    {
      "cell_type": "code",
      "source": [
        "my_list3 = ['python', 'js', 'SQL']\n",
        "my_list3.insert(0, 'java')\n",
        "print(my_list3) #顯示java python js SQL"
      ],
      "metadata": {
        "colab": {
          "base_uri": "https://localhost:8080/"
        },
        "id": "SQfa7rXxl5lc",
        "outputId": "2fb57c2e-3a26-44fd-f36a-2aada068c987"
      },
      "execution_count": null,
      "outputs": [
        {
          "output_type": "stream",
          "name": "stdout",
          "text": [
            "['java', 'python', 'js', 'SQL']\n"
          ]
        }
      ]
    },
    {
      "cell_type": "markdown",
      "source": [
        "## 刪除"
      ],
      "metadata": {
        "id": "c3lwiPopmBu9"
      }
    },
    {
      "cell_type": "code",
      "source": [
        "my_list4 = ['java', 'python', 'js', 'SQL']\n",
        "del my_list4[0]\n",
        "print(my_list4) #從0-3 顯示 python js SQL\n",
        "del my_list4[-1]\n",
        "print(my_list4) #扣1 顯示Python js"
      ],
      "metadata": {
        "colab": {
          "base_uri": "https://localhost:8080/"
        },
        "id": "1lPF30xmmDb1",
        "outputId": "5a74e940-66bd-4a98-9483-3136ed9fde03"
      },
      "execution_count": null,
      "outputs": [
        {
          "output_type": "stream",
          "name": "stdout",
          "text": [
            "['python', 'js', 'SQL']\n",
            "['python', 'js']\n"
          ]
        }
      ]
    },
    {
      "cell_type": "markdown",
      "source": [
        "## 檢查是否存在"
      ],
      "metadata": {
        "id": "WKNYC5tymTRt"
      }
    },
    {
      "cell_type": "code",
      "source": [
        "my_list4 = ['java', 'python', 'js', 'SQL']\n",
        "print('java' in my_list4) #檢查是否存在 true\n",
        "print('go' in my_list4) #檢查是否存在 flase"
      ],
      "metadata": {
        "colab": {
          "base_uri": "https://localhost:8080/"
        },
        "id": "X6qH_Tp0mVVF",
        "outputId": "8a11e8be-fa69-47e4-8a7d-c193a0cbdcae"
      },
      "execution_count": null,
      "outputs": [
        {
          "output_type": "stream",
          "name": "stdout",
          "text": [
            "True\n",
            "False\n"
          ]
        }
      ]
    },
    {
      "cell_type": "markdown",
      "source": [
        "## 串列重複"
      ],
      "metadata": {
        "id": "ssvUKQrKmedV"
      }
    },
    {
      "cell_type": "code",
      "source": [
        "a=[1,2] \n",
        "print(a*5) #1,2重複5次"
      ],
      "metadata": {
        "colab": {
          "base_uri": "https://localhost:8080/"
        },
        "id": "ibv4wLIDmgMN",
        "outputId": "2ee34392-6ffc-4f42-b0a1-f25ded54a0df"
      },
      "execution_count": null,
      "outputs": [
        {
          "output_type": "stream",
          "name": "stdout",
          "text": [
            "[1, 2, 1, 2, 1, 2, 1, 2, 1, 2]\n"
          ]
        }
      ]
    },
    {
      "cell_type": "markdown",
      "source": [
        "## 串列取值"
      ],
      "metadata": {
        "id": "4QtF_OzMmlsc"
      }
    },
    {
      "cell_type": "code",
      "source": [
        "a=[1,2,3,4,5,6,7,8,9]\n",
        "b=a[0:3] #範圍取值\n",
        "print(b)\n",
        "c=a[0:9:2] #間隔取值\n",
        "print(c)\n",
        "del a[7:9] #刪除串列某範圍的值\n",
        "print(a)\n",
        "print(min(a)) #串列最小值\n",
        "print(max(a))  #串列最大值\n",
        "print(a.index(1)) #1出現的索引位置\n",
        "print(a.count(1)) #1出現的次數\n",
        "a.reverse()  #串列反轉\n",
        "print(a)\n",
        "a.sort()     #串列排序\n",
        "print(a)"
      ],
      "metadata": {
        "colab": {
          "base_uri": "https://localhost:8080/"
        },
        "id": "OdgWCi9OmnvN",
        "outputId": "3d623c54-7083-4723-95bc-6d554eef7eb4"
      },
      "execution_count": null,
      "outputs": [
        {
          "output_type": "stream",
          "name": "stdout",
          "text": [
            "[1, 2, 3]\n",
            "[1, 3, 5, 7, 9]\n",
            "[1, 2, 3, 4, 5, 6, 7]\n",
            "1\n",
            "7\n",
            "0\n",
            "1\n",
            "[7, 6, 5, 4, 3, 2, 1]\n",
            "[1, 2, 3, 4, 5, 6, 7]\n"
          ]
        }
      ]
    }
  ]
}