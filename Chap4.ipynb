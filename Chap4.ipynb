{
  "nbformat": 4,
  "nbformat_minor": 0,
  "metadata": {
    "colab": {
      "name": "Chap4.ipynb",
      "provenance": []
    },
    "kernelspec": {
      "name": "python3",
      "display_name": "Python 3"
    },
    "language_info": {
      "name": "python"
    }
  },
  "cells": [
    {
      "cell_type": "markdown",
      "source": [
        "# 第四章：Python 物件\n",
        "## List : 串列 [ ]\n",
        "## Tuple : 不能更新的串列 ( )\n",
        "## Dict: 有鍵值(key)的串列 { }"
      ],
      "metadata": {
        "id": "InehSoNzlU8N"
      }
    },
    {
      "cell_type": "markdown",
      "source": [
        "## List 串列"
      ],
      "metadata": {
        "id": "0aKxUw9clW4U"
      }
    },
    {
      "cell_type": "code",
      "execution_count": null,
      "metadata": {
        "colab": {
          "base_uri": "https://localhost:8080/"
        },
        "id": "-ePuPXuJlRBi",
        "outputId": "71d719d9-a646-48c6-e3a7-1eb555b98f69"
      },
      "outputs": [
        {
          "output_type": "stream",
          "name": "stdout",
          "text": [
            "[]\n",
            "[]\n",
            "['python', 'js', 'SQL']\n",
            "python\n",
            "js\n",
            "SQL\n"
          ]
        }
      ],
      "source": [
        "my_list0=[] #[]中的內容\n",
        "my_list1 = list()\n",
        "my_list2 = ['python', 'js', 'SQL'] #顯示[]中內容\n",
        "print(my_list0) \n",
        "print(my_list1)\n",
        "print(my_list2)\n",
        "print(my_list2[0]) #顯示python\n",
        "print(my_list2[1]) #顯示js\n",
        "print(my_list2[2]) #顯示SQL"
      ]
    },
    {
      "cell_type": "markdown",
      "source": [
        "## 附加於最後"
      ],
      "metadata": {
        "id": "ET0yK6xglu69"
      }
    },
    {
      "cell_type": "code",
      "source": [
        "my_list2 = ['python', 'js', 'SQL'] \n",
        "my_list2.append('java')\n",
        "print(my_list2[3])\n",
        "#長度len()\n",
        "print(len(my_list2)) #第二是java\n",
        "print(len(my_list2[0]))"
      ],
      "metadata": {
        "colab": {
          "base_uri": "https://localhost:8080/"
        },
        "id": "A_EmFFm7lwk1",
        "outputId": "08ba97cc-c036-4f17-9cf2-b59e7aa4cfe0"
      },
      "execution_count": null,
      "outputs": [
        {
          "output_type": "stream",
          "name": "stdout",
          "text": [
            "java\n",
            "4\n",
            "6\n"
          ]
        }
      ]
    },
    {
      "cell_type": "markdown",
      "source": [
        "## 新增至特定位置"
      ],
      "metadata": {
        "id": "XYaLuGnYl33U"
      }
    },
    {
      "cell_type": "code",
      "source": [
        "my_list3 = ['python', 'js', 'SQL']\n",
        "my_list3.insert(0, 'java')\n",
        "print(my_list3) #顯示java python js SQL"
      ],
      "metadata": {
        "colab": {
          "base_uri": "https://localhost:8080/"
        },
        "id": "SQfa7rXxl5lc",
        "outputId": "2fb57c2e-3a26-44fd-f36a-2aada068c987"
      },
      "execution_count": null,
      "outputs": [
        {
          "output_type": "stream",
          "name": "stdout",
          "text": [
            "['java', 'python', 'js', 'SQL']\n"
          ]
        }
      ]
    },
    {
      "cell_type": "markdown",
      "source": [
        "## 刪除"
      ],
      "metadata": {
        "id": "c3lwiPopmBu9"
      }
    },
    {
      "cell_type": "code",
      "source": [
        "my_list4 = ['java', 'python', 'js', 'SQL']\n",
        "del my_list4[0]\n",
        "print(my_list4) #從0-3 顯示 python js SQL\n",
        "del my_list4[-1]\n",
        "print(my_list4) #扣1 顯示Python js"
      ],
      "metadata": {
        "colab": {
          "base_uri": "https://localhost:8080/"
        },
        "id": "1lPF30xmmDb1",
        "outputId": "5a74e940-66bd-4a98-9483-3136ed9fde03"
      },
      "execution_count": null,
      "outputs": [
        {
          "output_type": "stream",
          "name": "stdout",
          "text": [
            "['python', 'js', 'SQL']\n",
            "['python', 'js']\n"
          ]
        }
      ]
    },
    {
      "cell_type": "markdown",
      "source": [
        "## 檢查是否存在"
      ],
      "metadata": {
        "id": "WKNYC5tymTRt"
      }
    },
    {
      "cell_type": "code",
      "source": [
        "my_list4 = ['java', 'python', 'js', 'SQL']\n",
        "print('java' in my_list4) #檢查是否存在 true\n",
        "print('go' in my_list4) #檢查是否存在 flase"
      ],
      "metadata": {
        "colab": {
          "base_uri": "https://localhost:8080/"
        },
        "id": "X6qH_Tp0mVVF",
        "outputId": "8a11e8be-fa69-47e4-8a7d-c193a0cbdcae"
      },
      "execution_count": null,
      "outputs": [
        {
          "output_type": "stream",
          "name": "stdout",
          "text": [
            "True\n",
            "False\n"
          ]
        }
      ]
    },
    {
      "cell_type": "markdown",
      "source": [
        "## 串列重複"
      ],
      "metadata": {
        "id": "ssvUKQrKmedV"
      }
    },
    {
      "cell_type": "code",
      "source": [
        "a=[1,2] \n",
        "print(a*5) #1,2重複5次"
      ],
      "metadata": {
        "colab": {
          "base_uri": "https://localhost:8080/"
        },
        "id": "ibv4wLIDmgMN",
        "outputId": "2ee34392-6ffc-4f42-b0a1-f25ded54a0df"
      },
      "execution_count": null,
      "outputs": [
        {
          "output_type": "stream",
          "name": "stdout",
          "text": [
            "[1, 2, 1, 2, 1, 2, 1, 2, 1, 2]\n"
          ]
        }
      ]
    },
    {
      "cell_type": "markdown",
      "source": [
        "## 串列取值"
      ],
      "metadata": {
        "id": "4QtF_OzMmlsc"
      }
    },
    {
      "cell_type": "code",
      "source": [
        "a=[1,2,3,4,5,6,7,8,9]\n",
        "b=a[0:3] #範圍取值\n",
        "print(b)\n",
        "c=a[0:9:2] #間隔取值\n",
        "print(c)\n",
        "del a[7:9] #刪除串列某範圍的值\n",
        "print(a)\n",
        "print(min(a)) #串列最小值\n",
        "print(max(a))  #串列最大值\n",
        "print(a.index(1)) #1出現的索引位置\n",
        "print(a.count(1)) #1出現的次數\n",
        "a.reverse()  #串列反轉\n",
        "print(a)\n",
        "a.sort()     #串列排序\n",
        "print(a)"
      ],
      "metadata": {
        "colab": {
          "base_uri": "https://localhost:8080/"
        },
        "id": "OdgWCi9OmnvN",
        "outputId": "3d623c54-7083-4723-95bc-6d554eef7eb4"
      },
      "execution_count": null,
      "outputs": [
        {
          "output_type": "stream",
          "name": "stdout",
          "text": [
            "[1, 2, 3]\n",
            "[1, 3, 5, 7, 9]\n",
            "[1, 2, 3, 4, 5, 6, 7]\n",
            "1\n",
            "7\n",
            "0\n",
            "1\n",
            "[7, 6, 5, 4, 3, 2, 1]\n",
            "[1, 2, 3, 4, 5, 6, 7]\n"
          ]
        }
      ]
    },
    {
      "cell_type": "markdown",
      "source": [
        "# Chap.4 numpy套件(numeric python)\n",
        "## 為什麼需要numpy?\n",
        "* numpy由c撰寫，速度快python 10~1000倍以上\n",
        "* numpy儲存結果較正確，python數字儲存不正確\n",
        "* numpy節省記憶體儲存空間\n",
        "* numpy的向量(矩陣計算)速度快\n",
        "* numpy的取值方便"
      ],
      "metadata": {
        "id": "UEiZWEsETN3f"
      }
    },
    {
      "cell_type": "code",
      "source": [
        "a_list=[1,2,3,4,5]\n",
        "print(a_list*3) #重複3次"
      ],
      "metadata": {
        "colab": {
          "base_uri": "https://localhost:8080/"
        },
        "id": "GocLG-IMT0k_",
        "outputId": "aab5a918-5e43-4006-ab7a-9e6322982178"
      },
      "execution_count": 4,
      "outputs": [
        {
          "output_type": "stream",
          "name": "stdout",
          "text": [
            "[1, 2, 3, 4, 5, 1, 2, 3, 4, 5, 1, 2, 3, 4, 5]\n"
          ]
        }
      ]
    },
    {
      "cell_type": "code",
      "source": [
        "#numpy套件的ndarray型態,提供element-wise的操作\n",
        "import numpy as np\n",
        "a=np.array([1,2,3,4,5])\n",
        "print(a*3)"
      ],
      "metadata": {
        "colab": {
          "base_uri": "https://localhost:8080/"
        },
        "id": "_xNkl0pIT9uv",
        "outputId": "0fd970e1-4caf-4980-c88b-193cb834a9ca"
      },
      "execution_count": 5,
      "outputs": [
        {
          "output_type": "stream",
          "name": "stdout",
          "text": [
            "[ 3  6  9 12 15]\n"
          ]
        }
      ]
    },
    {
      "cell_type": "code",
      "source": [
        "a=np.array([1,2,3,4,5])\n",
        "print(type(a))\n",
        "print(a.shape) #ndaary的形狀\n",
        "print(a.dtype) #資料的型態\n",
        "print(a.ndim) #維度"
      ],
      "metadata": {
        "colab": {
          "base_uri": "https://localhost:8080/"
        },
        "id": "ezt8MuEkUEwt",
        "outputId": "a80fc959-b57e-4b46-ce45-5c45090c658f"
      },
      "execution_count": 6,
      "outputs": [
        {
          "output_type": "stream",
          "name": "stdout",
          "text": [
            "<class 'numpy.ndarray'>\n",
            "(5,)\n",
            "int64\n",
            "1\n"
          ]
        }
      ]
    },
    {
      "cell_type": "code",
      "source": [
        "import numpy as np\n",
        "z=np.zeros(6)\n",
        "print(z)\n",
        "z=np.zeros((2,3,4))\n",
        "print(z)\n",
        "print(np.arange(10))"
      ],
      "metadata": {
        "colab": {
          "base_uri": "https://localhost:8080/"
        },
        "id": "Qah89tqeSZU9",
        "outputId": "2b72da6e-1bea-4924-b58c-62689e7ac95c"
      },
      "execution_count": 3,
      "outputs": [
        {
          "output_type": "stream",
          "name": "stdout",
          "text": [
            "[0. 0. 0. 0. 0. 0.]\n",
            "[[[0. 0. 0. 0.]\n",
            "  [0. 0. 0. 0.]\n",
            "  [0. 0. 0. 0.]]\n",
            "\n",
            " [[0. 0. 0. 0.]\n",
            "  [0. 0. 0. 0.]\n",
            "  [0. 0. 0. 0.]]]\n",
            "[0 1 2 3 4 5 6 7 8 9]\n"
          ]
        }
      ]
    },
    {
      "cell_type": "markdown",
      "source": [
        "## ndarray的進階操作"
      ],
      "metadata": {
        "id": "03p-funeUIA8"
      }
    },
    {
      "cell_type": "code",
      "source": [
        "my_array=np.arange(10) #除了10 從0開始\n",
        "print(my_array)\n",
        "print(my_array[0])\n",
        "print(my_array[0:5]) #除了5 從0開始"
      ],
      "metadata": {
        "colab": {
          "base_uri": "https://localhost:8080/"
        },
        "id": "XRLfolObUMAF",
        "outputId": "855bdc0c-e876-4f61-8c5d-b92ec63dd088"
      },
      "execution_count": 7,
      "outputs": [
        {
          "output_type": "stream",
          "name": "stdout",
          "text": [
            "[0 1 2 3 4 5 6 7 8 9]\n",
            "0\n",
            "[0 1 2 3 4]\n"
          ]
        }
      ]
    },
    {
      "cell_type": "markdown",
      "source": [
        "### 2維資料取值"
      ],
      "metadata": {
        "id": "zA6eAihhUUoX"
      }
    },
    {
      "cell_type": "code",
      "source": [
        "my_2d_array=np.array([np.arange(0,5),np.arange(5,10)])\n",
        "print(my_2d_array)\n",
        "print(my_2d_array[1,:]) #取第一維的資料\n",
        "print(my_2d_array[:,1]) #取所有維度中，第一位置的資料\n",
        "print(my_2d_array[1,1]) #顯示2維資料的取值，都是從0開始"
      ],
      "metadata": {
        "colab": {
          "base_uri": "https://localhost:8080/"
        },
        "id": "u9kApB4GUWU1",
        "outputId": "46335333-c3aa-434b-d5bd-693c25257d16"
      },
      "execution_count": 8,
      "outputs": [
        {
          "output_type": "stream",
          "name": "stdout",
          "text": [
            "[[0 1 2 3 4]\n",
            " [5 6 7 8 9]]\n",
            "[5 6 7 8 9]\n",
            "[1 6]\n",
            "6\n"
          ]
        }
      ]
    },
    {
      "cell_type": "code",
      "source": [
        "my_array=np.arange(0,10) #除了10以外 從0開始\n",
        "print(my_array) #結果是10結果是10\n",
        "print(my_array.shape)\n",
        "my_2d_array=my_array.reshape(2,5)\n",
        "print(my_2d_array)\n",
        "print((np.arange(0,100).reshape(10,10))) #10行10列"
      ],
      "metadata": {
        "colab": {
          "base_uri": "https://localhost:8080/"
        },
        "id": "D-6CGxVaUgMj",
        "outputId": "eb111ec9-0240-449e-ca78-e356d822e93e"
      },
      "execution_count": 9,
      "outputs": [
        {
          "output_type": "stream",
          "name": "stdout",
          "text": [
            "[0 1 2 3 4 5 6 7 8 9]\n",
            "(10,)\n",
            "[[0 1 2 3 4]\n",
            " [5 6 7 8 9]]\n",
            "[[ 0  1  2  3  4  5  6  7  8  9]\n",
            " [10 11 12 13 14 15 16 17 18 19]\n",
            " [20 21 22 23 24 25 26 27 28 29]\n",
            " [30 31 32 33 34 35 36 37 38 39]\n",
            " [40 41 42 43 44 45 46 47 48 49]\n",
            " [50 51 52 53 54 55 56 57 58 59]\n",
            " [60 61 62 63 64 65 66 67 68 69]\n",
            " [70 71 72 73 74 75 76 77 78 79]\n",
            " [80 81 82 83 84 85 86 87 88 89]\n",
            " [90 91 92 93 94 95 96 97 98 99]]\n"
          ]
        }
      ]
    }
  ]
}