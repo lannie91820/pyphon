{
  "nbformat": 4,
  "nbformat_minor": 0,
  "metadata": {
    "colab": {
      "name": "Chap3..ipynb",
      "provenance": [],
      "collapsed_sections": []
    },
    "kernelspec": {
      "name": "python3",
      "display_name": "Python 3"
    },
    "language_info": {
      "name": "python"
    }
  },
  "cells": [
    {
      "cell_type": "markdown",
      "source": [
        "##Python物件\n",
        "List[串列]Tuple(元組)Dictionary(字典)Sets[集合]"
      ],
      "metadata": {
        "id": "3rrWJiai5Off"
      }
    },
    {
      "cell_type": "markdown",
      "source": [
        "##List[串列]\n",
        "使用中括號[]包裹元素"
      ],
      "metadata": {
        "id": "6R6NYMuB5oWf"
      }
    },
    {
      "cell_type": "code",
      "source": [
        "expenses = [1138, 101, 12, 300, 2049]\n",
        "print(sum(expenses))"
      ],
      "metadata": {
        "colab": {
          "base_uri": "https://localhost:8080/"
        },
        "id": "E7GXrPokaEh0",
        "outputId": "992ae3ad-fbe1-4915-bf51-6f907083ef6b"
      },
      "execution_count": null,
      "outputs": [
        {
          "output_type": "stream",
          "name": "stdout",
          "text": [
            "3600\n"
          ]
        }
      ]
    },
    {
      "cell_type": "markdown",
      "source": [
        "##索引"
      ],
      "metadata": {
        "id": "ZjU8NC_DaLEK"
      }
    },
    {
      "cell_type": "code",
      "source": [
        "expenses = [1138, 101, 12, 300, 2049]\n",
        "print(expenses[0]) #索引從0開始\n",
        "print(expenses[1])\n",
        "print(expenses[-1]) #倒數第一個\n",
        "print(expenses[-2])"
      ],
      "metadata": {
        "colab": {
          "base_uri": "https://localhost:8080/"
        },
        "id": "y8CQsVZlaONi",
        "outputId": "5d9e5d6f-3241-410a-e264-d2a1d15e4a73"
      },
      "execution_count": null,
      "outputs": [
        {
          "output_type": "stream",
          "name": "stdout",
          "text": [
            "1138\n",
            "101\n",
            "2049\n",
            "300\n"
          ]
        }
      ]
    },
    {
      "cell_type": "code",
      "execution_count": null,
      "metadata": {
        "colab": {
          "base_uri": "https://localhost:8080/"
        },
        "id": "FNc79Bmt5LId",
        "outputId": "a88600a2-e515-453b-8f2b-18bfd6bdc86b"
      },
      "outputs": [
        {
          "output_type": "stream",
          "name": "stdout",
          "text": [
            "90\n",
            "70\n",
            "95\n",
            "95\n"
          ]
        }
      ],
      "source": [
        "#List[串列]\n",
        "score=[90,70,80,88,95]\n",
        "print(score[0])\n",
        "print(score[1])\n",
        "print(score[4])\n",
        "print(score[-1]) #-從最後面數過來第一個"
      ]
    },
    {
      "cell_type": "code",
      "source": [
        "my_list0 = [] #空串列\n",
        "my_list1 = list() \n",
        "my_list2 = ['python', 'javascript', 'C#']\n",
        "print(my_list2[0])"
      ],
      "metadata": {
        "colab": {
          "base_uri": "https://localhost:8080/"
        },
        "id": "J2VU1aJgaV_9",
        "outputId": "3a86e4e5-50fe-4e40-fd47-fac31c802fac"
      },
      "execution_count": null,
      "outputs": [
        {
          "output_type": "stream",
          "name": "stdout",
          "text": [
            "python\n"
          ]
        }
      ]
    },
    {
      "cell_type": "markdown",
      "source": [
        "## list的長度"
      ],
      "metadata": {
        "id": "7z9hwuxbadSy"
      }
    },
    {
      "cell_type": "code",
      "source": [
        "my_list2 = ['python', 'javascript', 'C#']\n",
        "print(len(my_list2))\n",
        "print(len(my_list2[0]))"
      ],
      "metadata": {
        "colab": {
          "base_uri": "https://localhost:8080/"
        },
        "id": "bYIhbTSnaeGy",
        "outputId": "6b2b7141-c23e-4067-f689-2ac32932c812"
      },
      "execution_count": null,
      "outputs": [
        {
          "output_type": "stream",
          "name": "stdout",
          "text": [
            "3\n",
            "6\n"
          ]
        }
      ]
    },
    {
      "cell_type": "markdown",
      "source": [
        "### 附加"
      ],
      "metadata": {
        "id": "bCyPexucaiQy"
      }
    },
    {
      "cell_type": "code",
      "source": [
        "my_list2 = ['python', 'javascript', 'C#']\n",
        "my_list2.append('java')\n",
        "print(my_list2)"
      ],
      "metadata": {
        "colab": {
          "base_uri": "https://localhost:8080/"
        },
        "id": "80ZR3jPiajBi",
        "outputId": "9b0564f2-a494-4bf3-930c-10068ef5cf4b"
      },
      "execution_count": null,
      "outputs": [
        {
          "output_type": "stream",
          "name": "stdout",
          "text": [
            "['python', 'javascript', 'C#', 'java']\n"
          ]
        }
      ]
    },
    {
      "cell_type": "code",
      "source": [
        "my_list2 = ['python', 'javascript', 'C#']\n",
        "my_list2.insert(1,'java')\n",
        "print(my_list2)"
      ],
      "metadata": {
        "colab": {
          "base_uri": "https://localhost:8080/"
        },
        "id": "TTyMI6q6amKc",
        "outputId": "cf5b85a3-06e9-424c-fbc3-29ed85366445"
      },
      "execution_count": null,
      "outputs": [
        {
          "output_type": "stream",
          "name": "stdout",
          "text": [
            "['python', 'java', 'javascript', 'C#']\n"
          ]
        }
      ]
    },
    {
      "cell_type": "markdown",
      "source": [
        ""
      ],
      "metadata": {
        "id": "W2ZcWey4aorj"
      }
    },
    {
      "cell_type": "markdown",
      "source": [
        "### 刪除"
      ],
      "metadata": {
        "id": "O6flI2TraotL"
      }
    },
    {
      "cell_type": "code",
      "source": [
        "my_list2 = ['python', 'javascript', 'C#']\n",
        "my_list2.remove('python') #移除指定元素\n",
        "print(my_list2)\n",
        "del my_list2[-1] #刪除指定位置的元素\n",
        "print(my_list2)\n",
        "my_list2.clear() #清除全部\n",
        "print(my_list2)"
      ],
      "metadata": {
        "colab": {
          "base_uri": "https://localhost:8080/"
        },
        "id": "tv9atDuCapJr",
        "outputId": "55677382-acb0-4fd7-ebd0-48bd8f265b0f"
      },
      "execution_count": null,
      "outputs": [
        {
          "output_type": "stream",
          "name": "stdout",
          "text": [
            "['javascript', 'C#']\n",
            "['javascript']\n",
            "[]\n"
          ]
        }
      ]
    },
    {
      "cell_type": "code",
      "source": [
        "a=[1,2]\n",
        "print(a*5)"
      ],
      "metadata": {
        "colab": {
          "base_uri": "https://localhost:8080/"
        },
        "id": "-1BQI5UwaueT",
        "outputId": "4ad8caf5-2893-4a0c-f284-2d56aee28a17"
      },
      "execution_count": null,
      "outputs": [
        {
          "output_type": "stream",
          "name": "stdout",
          "text": [
            "[1, 2, 1, 2, 1, 2, 1, 2, 1, 2]\n"
          ]
        }
      ]
    },
    {
      "cell_type": "markdown",
      "source": [
        "### list取值"
      ],
      "metadata": {
        "id": "0La-htRqax4y"
      }
    },
    {
      "cell_type": "code",
      "source": [
        "a=[1,2,3,4,5,6,7,8,9]\n",
        "b=a[0:3] #範圍取值，0,1,2不包含3\n",
        "print(b)\n",
        "c=a[0:9:2] #間隔2取值\n",
        "print(c)\n",
        "d = a[0: ]\n",
        "print(d)\n",
        "e = a[ :9]\n",
        "print(e)\n",
        "f = a[:] #取全部值\n",
        "print(f)"
      ],
      "metadata": {
        "id": "afLtXu1kayUq",
        "outputId": "f1624813-7c53-4ab2-9bd4-0c3edc1fb5d8",
        "colab": {
          "base_uri": "https://localhost:8080/"
        }
      },
      "execution_count": null,
      "outputs": [
        {
          "output_type": "stream",
          "name": "stdout",
          "text": [
            "[1, 2, 3]\n",
            "[1, 3, 5, 7, 9]\n",
            "[1, 2, 3, 4, 5, 6, 7, 8, 9]\n",
            "[1, 2, 3, 4, 5, 6, 7, 8, 9]\n",
            "[1, 2, 3, 4, 5, 6, 7, 8, 9]\n"
          ]
        }
      ]
    },
    {
      "cell_type": "code",
      "source": [
        "a=[1,2,3,4,5,6,7,8,9]\n",
        "del a[7:9] #刪除某範圍值, 7, 8\n",
        "print(a)\n",
        "print(min(a)) #最小值\n",
        "print(max(a)) #最大值\n",
        "print(a.index(1)) #找出1所在的第一個索引值\n",
        "b=[1,0,0,1,1,1]\n",
        "print(b.count(1)) #1出現的次數\n",
        "a.reverse() #串列反轉\n",
        "print(a)\n",
        "a.sort() #串列由小到大排序,a的值會被改變\n",
        "print(a)"
      ],
      "metadata": {
        "id": "imTUpNT2a1wk",
        "outputId": "133ce7ed-b428-40eb-b859-6580a67958e3",
        "colab": {
          "base_uri": "https://localhost:8080/"
        }
      },
      "execution_count": null,
      "outputs": [
        {
          "output_type": "stream",
          "name": "stdout",
          "text": [
            "[1, 2, 3, 4, 5, 6, 7]\n",
            "1\n",
            "7\n",
            "0\n",
            "4\n",
            "[7, 6, 5, 4, 3, 2, 1]\n",
            "[1, 2, 3, 4, 5, 6, 7]\n"
          ]
        }
      ]
    },
    {
      "cell_type": "code",
      "source": [
        "expenses = [1138, 101, 12, 300, 2049]\n",
        "s=sorted(expenses) #expenses的值不會變\n",
        "print(s, expenses)"
      ],
      "metadata": {
        "id": "Jdla-1C0a30Z",
        "outputId": "b560c38f-a5c8-4684-b00a-e26aa71ca55b",
        "colab": {
          "base_uri": "https://localhost:8080/"
        }
      },
      "execution_count": null,
      "outputs": [
        {
          "output_type": "stream",
          "name": "stdout",
          "text": [
            "[12, 101, 300, 1138, 2049] [1138, 101, 12, 300, 2049]\n"
          ]
        }
      ]
    },
    {
      "cell_type": "markdown",
      "source": [
        "# 流程控制"
      ],
      "metadata": {
        "id": "hGjY6HOPiUez"
      }
    },
    {
      "cell_type": "markdown",
      "source": [
        "## if else"
      ],
      "metadata": {
        "id": "fazkkai9iXG-"
      }
    },
    {
      "cell_type": "code",
      "source": [
        "a=3\n",
        "b=4\n",
        "if a <= b: #結果為B是比較大的數字\n",
        "    print(\"b是比較大的數\") \n",
        "else:\n",
        "    print(\"a是比較大的數\")"
      ],
      "metadata": {
        "colab": {
          "base_uri": "https://localhost:8080/"
        },
        "id": "roD7r8djiVeX",
        "outputId": "9929f07e-0968-41e8-a615-4f7a6c2b958c"
      },
      "execution_count": null,
      "outputs": [
        {
          "output_type": "stream",
          "name": "stdout",
          "text": [
            "b是比較大的數\n"
          ]
        }
      ]
    },
    {
      "cell_type": "markdown",
      "source": [
        "## for 迴圈"
      ],
      "metadata": {
        "id": "Zxv5MmDBibye"
      }
    },
    {
      "cell_type": "code",
      "source": [
        "sum=0\n",
        "for count in range(1,11):  #1 2 3 4 5 6 7 8 9 10 沒有11, step:1\n",
        "    sum = sum + count #全部相加\n",
        "print(sum)"
      ],
      "metadata": {
        "colab": {
          "base_uri": "https://localhost:8080/"
        },
        "id": "wz2e4re9il1-",
        "outputId": "d1ee123f-b24d-473b-91a8-5d091c7600a9"
      },
      "execution_count": null,
      "outputs": [
        {
          "output_type": "stream",
          "name": "stdout",
          "text": [
            "55\n"
          ]
        }
      ]
    },
    {
      "cell_type": "code",
      "source": [
        "mylist=\"for statement\" #顯示的文字\n",
        "for word in mylist: \n",
        "    print(word)\n",
        "else:\n",
        "    print(\"end list\") #最後顯示end list"
      ],
      "metadata": {
        "colab": {
          "base_uri": "https://localhost:8080/"
        },
        "id": "vonU3oD6ioQQ",
        "outputId": "8b89d840-4855-405b-d607-6b2d0f0a5256"
      },
      "execution_count": null,
      "outputs": [
        {
          "output_type": "stream",
          "name": "stdout",
          "text": [
            "f\n",
            "o\n",
            "r\n",
            " \n",
            "s\n",
            "t\n",
            "a\n",
            "t\n",
            "e\n",
            "m\n",
            "e\n",
            "n\n",
            "t\n",
            "end list\n"
          ]
        }
      ]
    },
    {
      "cell_type": "markdown",
      "source": [
        "## 雞兔同籠  假設一個農場雞兔共有35頭，94隻腳，請問共有幾隻雞，幾隻兔?"
      ],
      "metadata": {
        "id": "Hohs0q_5i64f"
      }
    },
    {
      "cell_type": "code",
      "source": [
        "for chicken in range(0,35):\n",
        "    rabbit=35-chicken\n",
        "    if (2*chicken+4*rabbit)==94:\n",
        "        print(\"雞有\",chicken,\"隻, 兔子有\",rabbit,\"隻\") \n",
        "        break\n",
        "else:\n",
        "    print(\"無解\") #如果計算不出來時，顯示無解即可"
      ],
      "metadata": {
        "colab": {
          "base_uri": "https://localhost:8080/"
        },
        "id": "e98UtMx2i6k-",
        "outputId": "a62592e9-3c35-4f90-a5c5-c374e691ac6d"
      },
      "execution_count": null,
      "outputs": [
        {
          "output_type": "stream",
          "name": "stdout",
          "text": [
            "雞有 23 隻, 兔子有 12 隻\n"
          ]
        }
      ]
    },
    {
      "cell_type": "markdown",
      "source": [
        "## while迴圈"
      ],
      "metadata": {
        "id": "nxf-c9_vjFWo"
      }
    },
    {
      "cell_type": "code",
      "source": [
        "sum=0\n",
        "count=1\n",
        "while count <=10: #計算到+10\n",
        "    sum=sum+count\n",
        "    count=count+1\n",
        "print(\"1+2+3+...+10=\", sum) #顯示1+2+3+...+10的總和"
      ],
      "metadata": {
        "colab": {
          "base_uri": "https://localhost:8080/"
        },
        "id": "IYjnmgUEjHKf",
        "outputId": "36642620-eeab-465f-993c-e883c3537649"
      },
      "execution_count": null,
      "outputs": [
        {
          "output_type": "stream",
          "name": "stdout",
          "text": [
            "1+2+3+...+10= 55\n"
          ]
        }
      ]
    },
    {
      "cell_type": "markdown",
      "source": [
        "##本金10000元，年利率1%，請問多久銀行存款會加倍"
      ],
      "metadata": {
        "id": "QpQ2QONojQh2"
      }
    },
    {
      "cell_type": "code",
      "source": [
        "x=10000\n",
        "year=0 #已知x=10000 year=0\n",
        "while x <= 20000:  #10000<20000\n",
        "    year += 1\n",
        "    x=x*1.01\n",
        "print(str(year),\"年以後，存款加倍，為\",int(x),\"元\")  #計算結果為70年後，存款加倍，為20067元"
      ],
      "metadata": {
        "colab": {
          "base_uri": "https://localhost:8080/"
        },
        "id": "kwv-1vM-jR1P",
        "outputId": "baec034b-d8b6-4f16-e7e2-ee333140d79a"
      },
      "execution_count": null,
      "outputs": [
        {
          "output_type": "stream",
          "name": "stdout",
          "text": [
            "70 年以後，存款加倍，為 20067 元\n"
          ]
        }
      ]
    },
    {
      "cell_type": "markdown",
      "source": [
        "## 猜數字"
      ],
      "metadata": {
        "id": "vvERjIcbjjSP"
      }
    },
    {
      "cell_type": "code",
      "source": [
        "number=11\n",
        "while True:\n",
        "    guess=int(input('請輸入1~100之間的數字：'))  #從1~100中任選一個數字\n",
        "    if guess == number:\n",
        "        print('你猜對了，數字是：',number)\n",
        "        break\n",
        "    else:\n",
        "        print('猜錯了')  #猜對or猜錯"
      ],
      "metadata": {
        "colab": {
          "base_uri": "https://localhost:8080/"
        },
        "id": "nHnF4_E9jlWH",
        "outputId": "48e3188a-2c47-4fbf-e44c-fd465e54518e"
      },
      "execution_count": null,
      "outputs": [
        {
          "metadata": {
            "tags": null
          },
          "name": "stdout",
          "output_type": "stream",
          "text": [
            "猜錯了\n",
            "猜錯了\n"
          ]
        }
      ]
    },
    {
      "cell_type": "code",
      "source": [
        "import random\n",
        "number=random.randint(1,10)\n",
        "while True:\n",
        "    guess=int(input('請輸入1~10之間的數字：')) #從1~10中任選一個數字\n",
        "    if guess == number:\n",
        "        print('你猜對了，數字是：',number)\n",
        "        break\n",
        "    else:\n",
        "        print('猜錯了') #猜對or猜錯"
      ],
      "metadata": {
        "colab": {
          "base_uri": "https://localhost:8080/"
        },
        "id": "ml7OcSTekd3n",
        "outputId": "bf2323a7-ed47-4b5b-c902-dc82b391c4fa"
      },
      "execution_count": null,
      "outputs": [
        {
          "output_type": "stream",
          "name": "stdout",
          "text": [
            "請輸入1~10之間的數字：30\n",
            "猜錯了\n",
            "請輸入1~10之間的數字：2\n",
            "猜錯了\n",
            "請輸入1~10之間的數字：1\n",
            "猜錯了\n",
            "請輸入1~10之間的數字：3\n",
            "猜錯了\n",
            "請輸入1~10之間的數字：4\n",
            "猜錯了\n",
            "請輸入1~10之間的數字：5\n",
            "猜錯了\n",
            "請輸入1~10之間的數字：6\n",
            "你猜對了，數字是： 6\n"
          ]
        }
      ]
    }
  ]
}