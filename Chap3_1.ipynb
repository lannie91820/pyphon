{
  "nbformat": 4,
  "nbformat_minor": 0,
  "metadata": {
    "colab": {
      "name": "Chap3-1.ipynb",
      "provenance": []
    },
    "kernelspec": {
      "name": "python3",
      "display_name": "Python 3"
    },
    "language_info": {
      "name": "python"
    }
  },
  "cells": [
    {
      "cell_type": "markdown",
      "source": [
        "## Tuple (元組)\n",
        "tuple(元組)可視為不可改變的串列，tuple跟list很像，但是我們不能新增、刪除或更新tuple的元素。tuple的好處有：\n",
        "1. 佔用較少空間\n",
        "2. 可當作dictionary(字典)的鍵值\n",
        "3. 可當作函式引數"
      ],
      "metadata": {
        "id": "VSTKG8k5hQ_4"
      }
    },
    {
      "cell_type": "code",
      "execution_count": null,
      "metadata": {
        "colab": {
          "base_uri": "https://localhost:8080/"
        },
        "id": "etO7TrA9hLBb",
        "outputId": "b0f47439-d73c-41ce-c718-a9cbb5fab27f"
      },
      "outputs": [
        {
          "output_type": "stream",
          "name": "stdout",
          "text": [
            "('python', 'js', 'SQL')\n",
            "('go', 'c#', 'vb')\n",
            "go\n"
          ]
        }
      ],
      "source": [
        "a_tuple=('python', 'js', 'SQL') #顯示Pythoe js SQL\n",
        "print(a_tuple)\n",
        "b_list=['go', 'c#', 'vb'] #顯示go c# vb\n",
        "b_tuple=tuple(b_list)\n",
        "print(b_tuple)\n",
        "print(b_tuple[0]) #是go \n"
      ]
    },
    {
      "cell_type": "markdown",
      "source": [
        "### 字典(dictionary - dict)為帶有鍵值(key)的串列(list)"
      ],
      "metadata": {
        "id": "-y_a774IhWTg"
      }
    },
    {
      "cell_type": "code",
      "source": [
        "languages = {}\n",
        "languages = {'name':'python', 'version':'3.7'} #索引值(鍵值)可以自訂\n",
        "print(languages['name'])\n",
        "print(languages['version'])\n",
        "a={0:'python', 1:'java', 2:'SQL'}\n",
        "print(a[0]) #python\n",
        "print(a[1]) #java\n",
        "print(a[2]) #SQL\n",
        "print(languages)\n",
        "print(languages.keys())\n",
        "print(languages.values())\n",
        "print(languages.items())\n",
        "print('name' in languages)"
      ],
      "metadata": {
        "colab": {
          "base_uri": "https://localhost:8080/"
        },
        "id": "9GKzhqbPhUno",
        "outputId": "b6102036-ba0d-483b-a3d9-1d0fa05661e4"
      },
      "execution_count": null,
      "outputs": [
        {
          "output_type": "stream",
          "name": "stdout",
          "text": [
            "python\n",
            "3.7\n",
            "python\n",
            "java\n",
            "SQL\n",
            "{'name': 'python', 'version': '3.7'}\n",
            "dict_keys(['name', 'version'])\n",
            "dict_values(['python', '3.7'])\n",
            "dict_items([('name', 'python'), ('version', '3.7')])\n",
            "True\n"
          ]
        }
      ]
    }
  ]
}